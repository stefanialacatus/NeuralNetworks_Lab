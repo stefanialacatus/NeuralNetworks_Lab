{
 "cells": [
  {
   "cell_type": "markdown",
   "metadata": {
    "colab_type": "text",
    "id": "view-in-github"
   },
   "source": [
    "<a href=\"https://colab.research.google.com/github/Tensor-Reloaded/Neural-Networks-Template-2025/blob/main/Lab02/NumpyExcercises.ipynb\" target=\"_parent\"><img src=\"https://colab.research.google.com/assets/colab-badge.svg\" alt=\"Open In Colab\"/></a>"
   ]
  },
  {
   "cell_type": "markdown",
   "metadata": {
    "id": "1osmmLv1t8Vc"
   },
   "source": [
    "# Excercises with numpy"
   ]
  },
  {
   "cell_type": "code",
   "execution_count": 1,
   "metadata": {
    "colab": {
     "base_uri": "https://localhost:8080/"
    },
    "id": "R-psdy852TWD",
    "outputId": "81c31bfd-d099-4422-810a-699612394d98"
   },
   "outputs": [
    {
     "name": "stdout",
     "output_type": "stream",
     "text": [
      "Requirement already satisfied: timed-decorator in c:\\users\\stefa\\appdata\\local\\programs\\python\\python313\\lib\\site-packages (1.6.1)\n",
      "Note: you may need to restart the kernel to use updated packages.\n"
     ]
    },
    {
     "name": "stderr",
     "output_type": "stream",
     "text": [
      "\n",
      "[notice] A new release of pip is available: 25.0.1 -> 25.2\n",
      "[notice] To update, run: python.exe -m pip install --upgrade pip\n"
     ]
    }
   ],
   "source": [
    "%pip install timed-decorator"
   ]
  },
  {
   "cell_type": "code",
   "execution_count": 2,
   "metadata": {
    "id": "Pv2iHv15vu67"
   },
   "outputs": [],
   "source": [
    "import numpy as np\n",
    "from sklearn.metrics import confusion_matrix, accuracy_score, f1_score\n",
    "from timed_decorator.simple_timed import timed\n",
    "from typing import Tuple"
   ]
  },
  {
   "cell_type": "code",
   "execution_count": 3,
   "metadata": {
    "id": "7OOZ-UGxt77b"
   },
   "outputs": [],
   "source": [
    "predicted = np.array([\n",
    "    1,1,1,0,1,0,1,1,0,0\n",
    "])\n",
    "actual = np.array([\n",
    "    1,1,1,1,0,0,1,0,0,0\n",
    "])\n",
    "\n",
    "big_size = 500000\n",
    "big_actual = np.repeat(actual, big_size)\n",
    "big_predicted = np.repeat(predicted, big_size)\n"
   ]
  },
  {
   "cell_type": "markdown",
   "metadata": {
    "id": "WR9T8rfg94YQ"
   },
   "source": [
    "If you are not familiar with the confusion matrix for binary classification, check https://www.geeksforgeeks.org/confusion-matrix-machine-learning/#what-is-a-confusion-matrix"
   ]
  },
  {
   "cell_type": "markdown",
   "metadata": {
    "id": "DlvLoCK835ta"
   },
   "source": [
    "### Exercise 1\n",
    "\n",
    "Implement a method to retrieve the confusion matrix values using numpy operations. Aim to make your method faster than the sklearn implementation."
   ]
  },
  {
   "cell_type": "code",
   "execution_count": 18,
   "metadata": {
    "id": "KXCV8jvPydpC"
   },
   "outputs": [
    {
     "name": "stdout",
     "output_type": "stream",
     "text": [
      "tp_fp_fn_tn_sklearn(ndarray(10,), ndarray(10,)) -> total time: 0.000715400s\n",
      "tp_fp_fn_tn_numpy(ndarray(10,), ndarray(10,)) -> total time: 0.000083600s\n"
     ]
    }
   ],
   "source": [
    "@timed(use_seconds=True, show_args=True)\n",
    "def tp_fp_fn_tn_sklearn(gt: np.ndarray, pred: np.ndarray) -> Tuple[int, ...]:\n",
    "    tn, fp, fn, tp = confusion_matrix(gt, pred).ravel()\n",
    "    return tp, fp, fn, tn\n",
    "\n",
    "\n",
    "@timed(use_seconds=True, show_args=True)\n",
    "def tp_fp_fn_tn_numpy(gt: np.ndarray, pred: np.ndarray) -> Tuple[int, ...]:\n",
    "    tp=np.sum((gt==1) & (pred==1))\n",
    "    fp=np.sum((gt==0) & (pred==1))\n",
    "    fn=np.sum((gt==1) & (pred==0))\n",
    "    tn=np.sum((gt==0) & (pred==0))\n",
    "    return tp, fp, fn, tn\n",
    "\n",
    "\n",
    "assert tp_fp_fn_tn_sklearn(actual, predicted) == tp_fp_fn_tn_numpy(actual, predicted)"
   ]
  },
  {
   "cell_type": "code",
   "execution_count": 19,
   "metadata": {
    "id": "qlxFQ_1Pywjb"
   },
   "outputs": [
    {
     "name": "stdout",
     "output_type": "stream",
     "text": [
      "tp_fp_fn_tn_sklearn(ndarray(5000000,), ndarray(5000000,)) -> total time: 0.286583300s\n",
      "tp_fp_fn_tn_numpy(ndarray(5000000,), ndarray(5000000,)) -> total time: 0.061089800s\n"
     ]
    }
   ],
   "source": [
    "rez_1 = tp_fp_fn_tn_sklearn(big_actual, big_predicted)\n",
    "rez_2 = tp_fp_fn_tn_numpy(big_actual, big_predicted)\n",
    "\n",
    "assert rez_1 == rez_2"
   ]
  },
  {
   "cell_type": "markdown",
   "metadata": {
    "id": "LuJUVV1c_Iu8"
   },
   "source": [
    "```\n",
    "tp_fp_fn_tn_sklearn(ndarray(5000000,), ndarray(5000000,)) -> total time: 1.362611559s\n",
    "tp_fp_fn_tn_numpy(ndarray(5000000,), ndarray(5000000,)) -> total time: 0.061580794s\n",
    "```"
   ]
  },
  {
   "cell_type": "markdown",
   "metadata": {
    "id": "9VtOouGY-dGU"
   },
   "source": [
    "### Exercise 2\n",
    "\n",
    "Implement a method to retrieve the calculate the accuracy using numpy operations."
   ]
  },
  {
   "cell_type": "markdown",
   "metadata": {
    "id": "FrOvVlQi6Vqx"
   },
   "source": [
    "Accuracy = $\\frac{TP + TN}{TP + FP + FN + TN}$"
   ]
  },
  {
   "cell_type": "code",
   "execution_count": 24,
   "metadata": {
    "id": "FvGCS4wo149M"
   },
   "outputs": [
    {
     "name": "stdout",
     "output_type": "stream",
     "text": [
      "accuracy_sklearn(ndarray(10,), ndarray(10,)) -> total time: 0.000473000s\n",
      "tp_fp_fn_tn_numpy(ndarray(10,), ndarray(10,)) -> total time: 0.000072700s\n",
      "accuracy_numpy(ndarray(10,), ndarray(10,)) -> total time: 0.052622600s\n"
     ]
    }
   ],
   "source": [
    "@timed(use_seconds=True, show_args=True)\n",
    "def accuracy_sklearn(gt: np.ndarray, pred: np.ndarray) -> float:\n",
    "    return accuracy_score(gt, pred)\n",
    "\n",
    "\n",
    "@timed(use_seconds=True, show_args=True)\n",
    "def accuracy_numpy(gt: np.ndarray, pred: np.ndarray) -> float:\n",
    "    tp, fp, fn, tn = tp_fp_fn_tn_numpy(gt, pred)\n",
    "    return (tp+tn)/(tp+fp+fn+tn)\n",
    "\n",
    "\n",
    "assert accuracy_sklearn(actual, predicted) == accuracy_numpy(actual, predicted)"
   ]
  },
  {
   "cell_type": "code",
   "execution_count": 25,
   "metadata": {
    "id": "yYwMTAdX13RU"
   },
   "outputs": [
    {
     "name": "stdout",
     "output_type": "stream",
     "text": [
      "accuracy_sklearn(ndarray(5000000,), ndarray(5000000,)) -> total time: 0.135361800s\n",
      "tp_fp_fn_tn_numpy(ndarray(5000000,), ndarray(5000000,)) -> total time: 0.054047800s\n",
      "accuracy_numpy(ndarray(5000000,), ndarray(5000000,)) -> total time: 0.106013300s\n"
     ]
    }
   ],
   "source": [
    "rez_1 = accuracy_sklearn(big_actual, big_predicted)\n",
    "rez_2 = accuracy_numpy(big_actual, big_predicted)\n",
    "\n",
    "assert np.isclose(rez_1, rez_2)"
   ]
  },
  {
   "cell_type": "markdown",
   "metadata": {
    "id": "Y4vOxFRX_DbN"
   },
   "source": [
    "```\n",
    "accuracy_sklearn(ndarray(5000000,), ndarray(5000000,)) -> total time: 0.737005607s\n",
    "accuracy_numpy(ndarray(5000000,), ndarray(5000000,)) -> total time: 0.045633154s\n",
    "```"
   ]
  },
  {
   "cell_type": "markdown",
   "metadata": {
    "id": "9a4kiUip-iaB"
   },
   "source": [
    "## Excercise 3\n",
    "\n",
    "Implement a method to calculate the F1-Score using numpy operations. Be careful at corner cases (divide by 0)."
   ]
  },
  {
   "cell_type": "markdown",
   "metadata": {
    "id": "xlVLJUKe6nLf"
   },
   "source": [
    "Precision = $\\frac{TP}{TP + FP}$\n",
    "\n",
    "Recall = $\\frac{TP}{TP + FN}$\n",
    "\n",
    "F1-Score = $2 \\cdot \\frac{Precision \\cdot Recall}{Precision + Recall}$"
   ]
  },
  {
   "cell_type": "code",
   "execution_count": 33,
   "metadata": {
    "id": "bf26jyp65jWp"
   },
   "outputs": [
    {
     "name": "stdout",
     "output_type": "stream",
     "text": [
      "tp_fp_fn_tn_numpy(ndarray(10,), ndarray(10,)) -> total time: 0.000078700s\n",
      "f1_score_numpy(ndarray(10,), ndarray(10,)) -> total time: 0.048958400s\n",
      "0.7272727272727273\n",
      "f1_score_sklearn(ndarray(10,), ndarray(10,)) -> total time: 0.001011000s\n",
      "0.7272727272727273\n",
      "f1_score_sklearn(ndarray(10,), ndarray(10,)) -> total time: 0.001028800s\n",
      "tp_fp_fn_tn_numpy(ndarray(10,), ndarray(10,)) -> total time: 0.000068400s\n",
      "f1_score_numpy(ndarray(10,), ndarray(10,)) -> total time: 0.043933300s\n"
     ]
    }
   ],
   "source": [
    "@timed(use_seconds=True, show_args=True)\n",
    "def f1_score_sklearn(gt: np.ndarray, pred: np.ndarray) -> float:\n",
    "    return f1_score(gt, pred)\n",
    "\n",
    "\n",
    "@timed(use_seconds=True, show_args=True)\n",
    "def f1_score_numpy(gt: np.ndarray, pred: np.ndarray) -> float:\n",
    "    tp, fp, fn, tn = tp_fp_fn_tn_numpy(gt, pred)\n",
    "    pres=tp/(tp+fp) if (tp+fp)>0 else 0.0\n",
    "    recall=tp/(tp+fn)  if (tp+fn)>0 else 0.0\n",
    "    if (pres+recall)==0: return 0.0\n",
    "    f1= 2*((pres*recall)/(pres+recall))\n",
    "    return np.nextafter(np.float64(f1), 1)\n",
    "\n",
    "print(f1_score_numpy(actual, predicted))\n",
    "print(f1_score_sklearn(actual, predicted))\n",
    "\n",
    "assert f1_score_sklearn(actual, predicted) == f1_score_numpy(actual, predicted)"
   ]
  },
  {
   "cell_type": "code",
   "execution_count": 34,
   "metadata": {
    "id": "a2LsucKI5rB4"
   },
   "outputs": [
    {
     "name": "stdout",
     "output_type": "stream",
     "text": [
      "f1_score_sklearn(ndarray(5000000,), ndarray(5000000,)) -> total time: 0.581648400s\n",
      "tp_fp_fn_tn_numpy(ndarray(5000000,), ndarray(5000000,)) -> total time: 0.056902000s\n",
      "f1_score_numpy(ndarray(5000000,), ndarray(5000000,)) -> total time: 0.120886500s\n"
     ]
    }
   ],
   "source": [
    "rez_1 = f1_score_sklearn(big_actual, big_predicted)\n",
    "rez_2 = f1_score_numpy(big_actual, big_predicted)\n",
    "\n",
    "assert np.isclose(rez_1, rez_2)"
   ]
  },
  {
   "cell_type": "markdown",
   "metadata": {
    "id": "uVLThSs4-9GP"
   },
   "source": [
    "```\n",
    "f1_score_sklearn(ndarray(5000000,), ndarray(5000000,)) -> total time: 5.300984584s\n",
    "f1_score_numpy(ndarray(5000000,), ndarray(5000000,)) -> total time: 0.042523483s\n",
    "```"
   ]
  }
 ],
 "metadata": {
  "colab": {
   "include_colab_link": true,
   "name": "RN-2024-Lab01",
   "provenance": []
  },
  "kaggle": {
   "accelerator": "none",
   "dataSources": [],
   "dockerImageVersionId": 30775,
   "isGpuEnabled": false,
   "isInternetEnabled": true,
   "language": "python",
   "sourceType": "notebook"
  },
  "kernelspec": {
   "display_name": "Python 3",
   "language": "python",
   "name": "python3"
  },
  "language_info": {
   "codemirror_mode": {
    "name": "ipython",
    "version": 3
   },
   "file_extension": ".py",
   "mimetype": "text/x-python",
   "name": "python",
   "nbconvert_exporter": "python",
   "pygments_lexer": "ipython3",
   "version": "3.13.3"
  }
 },
 "nbformat": 4,
 "nbformat_minor": 0
}
