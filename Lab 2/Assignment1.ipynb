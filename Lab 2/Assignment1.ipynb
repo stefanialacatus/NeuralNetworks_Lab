{
 "cells": [
  {
   "cell_type": "markdown",
   "metadata": {},
   "source": [
    "<a target=\"_blank\" href=\"https://colab.research.google.com/github/Tensor-Reloaded/Neural-Networks-Template-2025/blob/main/Lab02/Assignment1.ipynb\">\n",
    "  <img src=\"https://colab.research.google.com/assets/colab-badge.svg\" alt=\"Open In Colab\"/>\n",
    "</a>"
   ]
  },
  {
   "cell_type": "markdown",
   "metadata": {},
   "source": [
    "# **Assignment 1 (10 points)**"
   ]
  },
  {
   "cell_type": "markdown",
   "metadata": {
    "vscode": {
     "languageId": "plaintext"
    }
   },
   "source": [
    "## **Solving a linear system in python**"
   ]
  },
  {
   "cell_type": "markdown",
   "metadata": {
    "vscode": {
     "languageId": "plaintext"
    }
   },
   "source": [
    "In this homework, you will familiarize yourself with key linear algebra con-\n",
    "cepts and Python programming by solving a system of linear equations. You\n",
    "will explore multiple methods for solving such systems, including Cramer’s rule\n",
    "and matrix inversion. By the end of this assignment, you will have a good un-\n",
    "derstanding of how to represent and manipulate matrices and vectors in Python."
   ]
  },
  {
   "cell_type": "markdown",
   "metadata": {
    "vscode": {
     "languageId": "plaintext"
    }
   },
   "source": [
    "We begin with the following system of 3 linear equations with 3 unknowns:\n",
    "$$ 2x + 3y - z = 5 $$\n",
    "$$ x - y + 4z = 6 $$\n",
    "$$ 3x + y + 2z = 7 $$\n",
    "\n",
    "This system can be vectorized in the following form:\n",
    "$$ A \\cdot X = B $$\n",
    "where:\n",
    "$$\n",
    "A = \\begin{bmatrix}\n",
    "2 & 3 & -1 \\\\\n",
    "1 & -1 & 4 \\\\\n",
    "3 & 1 & 2\n",
    "\\end{bmatrix}, \\quad \n",
    "X = \\begin{bmatrix}\n",
    "x \\\\\n",
    "y \\\\\n",
    "z\n",
    "\\end{bmatrix}, \\quad \n",
    "B = \\begin{bmatrix}\n",
    "5 \\\\\n",
    "6 \\\\\n",
    "7\n",
    "\\end{bmatrix}\n",
    "$$\n",
    "\n",
    "**Considerations**\n",
    "- do not use any linear algebra framework such as $numpy$\n",
    "- use python lists as data structures for matrices and vectors\n",
    "- experiment with other values for the coefficients and free terms"
   ]
  },
  {
   "cell_type": "markdown",
   "metadata": {
    "vscode": {
     "languageId": "plaintext"
    }
   },
   "source": [
    "### **1. Parsing the System of Equations (1 point)**"
   ]
  },
  {
   "cell_type": "markdown",
   "metadata": {
    "vscode": {
     "languageId": "plaintext"
    }
   },
   "source": [
    "The first task is to implement a Python script that reads a system of linear equations from a text file and parses it into a matrix $A$ and a vector $B$. You will use the input format described below to extract the coefficients for $A$ and $B$.\n",
    "\n",
    "**Input File Format**\n",
    "```text\n",
    "2x + 3y - z = 5\n",
    "x - y + 4z = 6\n",
    "3x + y + 2z = 7\n",
    "```\n",
    "\n",
    "Note that the coefficients are always in the order x, y and z and the terms are always space separated"
   ]
  },
  {
   "cell_type": "code",
   "execution_count": 5,
   "metadata": {},
   "outputs": [
    {
     "name": "stdout",
     "output_type": "stream",
     "text": [
      "A=[[2.0, 3.0, -1.0], [0.03, -1.0, 4.0], [3.0, 1.0, 2.0]] B=[5.0, 6.0, 7.0]\n"
     ]
    }
   ],
   "source": [
    "import pathlib\n",
    "\n",
    "def load_system(path: pathlib.Path) -> tuple[list[list[float]], list[float]]:\n",
    "    a=[]\n",
    "    b=[]\n",
    "    with open(path, \"r\") as f:\n",
    "        for line in f:\n",
    "            line=line.strip().replace(\" \", \"\")\n",
    "            a_line=[]\n",
    "            coeff=\"\"\n",
    "            for i in range(len(line)):\n",
    "              ch=line[i]\n",
    "              if ch in \"0123456789.-+\":\n",
    "                  coeff+=ch\n",
    "              elif ch in [\"x\", \"y\", \"z\"]:\n",
    "                  if coeff in [\"\", \"+\", \"-\"]:\n",
    "                      coeff+=\"1\"\n",
    "                  a_line.append(float(coeff))\n",
    "                  coeff=\"\"\n",
    "              elif ch==\"=\":\n",
    "                  b.append(float(line[i+1:]))\n",
    "            a.append(a_line)  \n",
    "    return a, b\n",
    "\n",
    "A, B = load_system(pathlib.Path(\"system.txt\"))\n",
    "print(f\"{A=} {B=}\")"
   ]
  },
  {
   "cell_type": "markdown",
   "metadata": {
    "vscode": {
     "languageId": "plaintext"
    }
   },
   "source": [
    "### **2. Matrix and Vector Operations (5 points)**"
   ]
  },
  {
   "cell_type": "markdown",
   "metadata": {
    "vscode": {
     "languageId": "plaintext"
    }
   },
   "source": [
    "Once you have successfully parsed the matrix and vector, complete the following exercises to manipulate and understand basic matrix and vector operations. Write Python functions for each of these tasks:"
   ]
  },
  {
   "cell_type": "markdown",
   "metadata": {
    "vscode": {
     "languageId": "plaintext"
    }
   },
   "source": [
    "#### 2.1. Determinant"
   ]
  },
  {
   "cell_type": "markdown",
   "metadata": {
    "vscode": {
     "languageId": "plaintext"
    }
   },
   "source": [
    "Write a function to compute the determinant of matrix $A$. Recall one of the formulae for the determinant of a $3x3$ matrix:\n",
    "$$ \\text{det}(A) = a_{11}(a_{22}a_{33} - a_{23}a_{32}) - a_{12}(a_{21}a_{33} - a_{23}a_{31}) + a_{13}(a_{21}a_{32} - a_{22}a_{31}) $$"
   ]
  },
  {
   "cell_type": "code",
   "execution_count": 3,
   "metadata": {},
   "outputs": [
    {
     "name": "stdout",
     "output_type": "stream",
     "text": [
      "determinant(A)=14.0\n"
     ]
    }
   ],
   "source": [
    "def determinant(matrix: list[list[float]]) -> float:\n",
    "    n=len(matrix)\n",
    "    if n==2:\n",
    "        det=matrix[0][0]*matrix[1][1]-matrix[0][1]*matrix[1][0] \n",
    "    elif n==3:\n",
    "        det=(matrix[0][0]*(matrix[1][1]*matrix[2][2] - matrix[1][2]*matrix[2][1])\n",
    "                - matrix[0][1]*(matrix[1][0]*matrix[2][2] - matrix[1][2]*matrix[2][0])\n",
    "                + matrix[0][2]*(matrix[1][0]*matrix[2][1] - matrix[1][1]*matrix[2][0]))\n",
    "    return det\n",
    "\n",
    "print(f\"{determinant(A)=}\")"
   ]
  },
  {
   "cell_type": "markdown",
   "metadata": {},
   "source": [
    "#### 2.2. Trace"
   ]
  },
  {
   "cell_type": "markdown",
   "metadata": {},
   "source": [
    "Compute the sum of the elements along the main diagonal of matrix $A$. For a matrix $A$, this is:\n",
    "$$ \\text{Trace}(A) = a_{11} + a_{22} + a_{33} $$"
   ]
  },
  {
   "cell_type": "code",
   "execution_count": 4,
   "metadata": {},
   "outputs": [
    {
     "name": "stdout",
     "output_type": "stream",
     "text": [
      "trace(A)=3.0\n"
     ]
    }
   ],
   "source": [
    "def trace(matrix: list[list[float]]) -> float:\n",
    "    n=len(matrix)\n",
    "    trace=0\n",
    "    for i in range(0, n):\n",
    "        trace=trace+matrix[i][i]\n",
    "    return trace\n",
    "\n",
    "print(f\"{trace(A)=}\")"
   ]
  },
  {
   "cell_type": "markdown",
   "metadata": {},
   "source": [
    "#### 2.3. Vector norm"
   ]
  },
  {
   "cell_type": "markdown",
   "metadata": {},
   "source": [
    "Compute the Euclidean norm of vector $B$, which is:\n",
    "$$ ||B|| = \\sqrt{b_1^2 + b_2^2 + b_3^2} $$"
   ]
  },
  {
   "cell_type": "code",
   "execution_count": 5,
   "metadata": {},
   "outputs": [
    {
     "name": "stdout",
     "output_type": "stream",
     "text": [
      "norm(B)=10.488088481701515\n"
     ]
    }
   ],
   "source": [
    "def norm(vector: list[float]) -> float:\n",
    "    n=len(vector)\n",
    "    sum=0\n",
    "    for i in range(0,n):\n",
    "        sum+=pow(vector[i], 2)\n",
    "    norm=pow(sum, 0.5)\n",
    "    return norm\n",
    "\n",
    "print(f\"{norm(B)=}\")"
   ]
  },
  {
   "cell_type": "markdown",
   "metadata": {},
   "source": [
    "#### 2.4. Transpose of matrix"
   ]
  },
  {
   "cell_type": "markdown",
   "metadata": {},
   "source": [
    "Write a function to compute the transpose of matrix $A$. The transpose of a matrix $A$ is obtained by swapping its rows and columns.\n",
    "    "
   ]
  },
  {
   "cell_type": "code",
   "execution_count": 6,
   "metadata": {},
   "outputs": [
    {
     "name": "stdout",
     "output_type": "stream",
     "text": [
      "transpose(A)=[[2.0, 1.0, 3.0], [3.0, -1.0, 1.0], [-1.0, 4.0, 2.0]]\n"
     ]
    }
   ],
   "source": [
    "def transpose(matrix: list[list[float]]) -> list[list[float]]:\n",
    "    trans=[]\n",
    "    rows=len(matrix)\n",
    "    cols=len(matrix[0])\n",
    "    trans=[[0 for _ in range(rows)] for _ in range(cols)]\n",
    "    for i in range(0, rows):\n",
    "        for j in range(0, cols):\n",
    "            trans[i][j]=matrix[j][i]\n",
    "    return trans\n",
    "\n",
    "print(f\"{transpose(A)=}\")"
   ]
  },
  {
   "cell_type": "markdown",
   "metadata": {},
   "source": [
    "#### 2.5. Matrix-vector multiplication"
   ]
  },
  {
   "cell_type": "markdown",
   "metadata": {},
   "source": [
    "Write a function that multiplies matrix $A$ with vector $B$."
   ]
  },
  {
   "cell_type": "code",
   "execution_count": 7,
   "metadata": {},
   "outputs": [
    {
     "name": "stdout",
     "output_type": "stream",
     "text": [
      "multiply(A, B)=[21.0, 27.0, 35.0]\n"
     ]
    }
   ],
   "source": [
    "def multiply(matrix: list[list[float]], vector: list[float]) -> list[float]:\n",
    "    rows=len(matrix)\n",
    "    cols=len(matrix[0])\n",
    "    result=[0 for _ in range(rows)]\n",
    "    for i in range(rows):         \n",
    "        for j in range(cols):     \n",
    "            result[i]+=matrix[i][j]*vector[j]\n",
    "    return result\n",
    "\n",
    "print(f\"{multiply(A, B)=}\")"
   ]
  },
  {
   "cell_type": "markdown",
   "metadata": {},
   "source": [
    "### **3. Solving using Cramer's Rule (1 point)**"
   ]
  },
  {
   "cell_type": "markdown",
   "metadata": {},
   "source": [
    "Now that you have explored basic matrix operations, solve the system of linear equations using Cramer's rule.\n",
    "\n",
    "**Cramer's Rule:**\n",
    "\n",
    "Cramer's rule allows you to solve for each unknown $x$, $y$, and $z$ using determinants. For example:\n",
    "$$ x = \\frac{\\text{det}(A_x)}{\\text{det}(A)}, \\quad y = \\frac{\\text{det}(A_y)}{\\text{det}(A)}, \\quad z = \\frac{\\text{det}(A_z)}{\\text{det}(A)} $$\n",
    "where $A_x$, $A_y$, and $A_z$ are matrices formed by replacing the respective column of matrix $A$ with vector $B$."
   ]
  },
  {
   "cell_type": "code",
   "execution_count": 8,
   "metadata": {},
   "outputs": [
    {
     "name": "stdout",
     "output_type": "stream",
     "text": [
      "solve_cramer(A, B)=[0.35714285714285715, 2.0714285714285716, 1.9285714285714286]\n"
     ]
    }
   ],
   "source": [
    "def solve_cramer(matrix: list[list[float]], vector: list[float]) -> list[float]:\n",
    "    n=len(vector)\n",
    "    det=determinant(matrix)\n",
    "    result=[]\n",
    "    for col in range(n):\n",
    "        a_var = [[vector[row] if c == col else matrix[row][c] for c in range(n)] for row in range(n)]\n",
    "        var=determinant(a_var)/det\n",
    "        result.append(var)\n",
    "    return result\n",
    "\n",
    "print(f\"{solve_cramer(A, B)=}\")"
   ]
  },
  {
   "cell_type": "markdown",
   "metadata": {},
   "source": [
    "### **4. Solving using Inversion (3 points)**"
   ]
  },
  {
   "cell_type": "markdown",
   "metadata": {},
   "source": [
    "Finally, solve the system by computing the inverse of matrix $A$ and multiplying it by vector $B$.\n",
    "$$ A \\cdot X = B \\rightarrow X = A^{-1} \\cdot B $$\n",
    "**Adjugate Method for Matrix Inversion:**\n",
    "\n",
    "To find the inverse of matrix $ A $, you can use the adjugate method:\n",
    "$$ A^{-1} = \\frac{1}{\\text{det}(A)} \\times \\text{adj}(A) $$\n",
    "where $\\text{adj}(A)$ is the adjugate (or adjoint) matrix, which is the transpose of the cofactor matrix of $ A $.\n",
    "\n",
    "**Cofactor Matrix:**\n",
    "\n",
    "The cofactor matrix is a matrix where each element is replaced by its cofactor. The cofactor of an element $a_{ij}$ is given by:\n",
    "$$ (-1)^{i+j} \\times \\text{det}(M_{ij}) $$\n",
    "where $M_{ij}$ is the minor of element $a_{ij}$, which is the matrix obtained by removing the $i$-th row and $j$-th column from matrix $A$."
   ]
  },
  {
   "cell_type": "code",
   "execution_count": 9,
   "metadata": {},
   "outputs": [
    {
     "name": "stdout",
     "output_type": "stream",
     "text": [
      "solve(A, B)=[0.35714285714285765, 2.071428571428571, 1.9285714285714288]\n"
     ]
    }
   ],
   "source": [
    "def minor(matrix: list[list[float]], i: int, j: int) -> list[list[float]]:\n",
    "    n=len(matrix)\n",
    "    minor=[[matrix[row][col] for col in range(n) if col!=j] for row in range(n) if row!=i]\n",
    "    return minor\n",
    "\n",
    "def cofactor(matrix: list[list[float]]) -> list[list[float]]:\n",
    "    rows=len(matrix)\n",
    "    cols=len(matrix[0])\n",
    "    cof=[[0 for _ in range(cols)] for _ in range(rows)]\n",
    "    for row in range(rows):\n",
    "        for col in range(cols):\n",
    "            cof[row][col]=pow(-1, (row+col))*determinant(minor(matrix, row, col))\n",
    "    return cof\n",
    "\n",
    "def adjoint(matrix: list[list[float]]) -> list[list[float]]:\n",
    "    return transpose(cofactor(matrix))\n",
    "\n",
    "def inverse(matrix: list[list[float]]) -> list[list[float]]:\n",
    "    det=determinant(matrix)\n",
    "    adj=adjoint(matrix)\n",
    "    inv=[[adj[i][j]/det for j in range(len(adj[0]))] for i in range(len(adj))]\n",
    "    return inv\n",
    "\n",
    "def solve(matrix: list[list[float]], vector: list[float]) -> list[float]:\n",
    "    x=multiply(inverse(matrix), vector)\n",
    "    return x\n",
    "\n",
    "print(f\"{solve(A, B)=}\")"
   ]
  }
 ],
 "metadata": {
  "kernelspec": {
   "display_name": "Python 3",
   "language": "python",
   "name": "python3"
  },
  "language_info": {
   "codemirror_mode": {
    "name": "ipython",
    "version": 3
   },
   "file_extension": ".py",
   "mimetype": "text/x-python",
   "name": "python",
   "nbconvert_exporter": "python",
   "pygments_lexer": "ipython3",
   "version": "3.13.3"
  }
 },
 "nbformat": 4,
 "nbformat_minor": 2
}
