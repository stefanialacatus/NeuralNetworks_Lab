{
 "metadata": {
  "kernelspec": {
   "language": "python",
   "display_name": "Python 3",
   "name": "python3"
  },
  "language_info": {
   "name": "python",
   "version": "3.10.14",
   "mimetype": "text/x-python",
   "codemirror_mode": {
    "name": "ipython",
    "version": 3
   },
   "pygments_lexer": "ipython3",
   "nbconvert_exporter": "python",
   "file_extension": ".py"
  },
  "kaggle": {
   "accelerator": "none",
   "dataSources": [],
   "dockerImageVersionId": 30775,
   "isInternetEnabled": true,
   "language": "python",
   "sourceType": "notebook",
   "isGpuEnabled": false
  },
  "colab": {
   "name": "RN-2024-Lab01",
   "provenance": [],
   "include_colab_link": true
  }
 },
 "nbformat_minor": 0,
 "nbformat": 4,
 "cells": [
  {
   "cell_type": "markdown",
   "metadata": {
    "id": "view-in-github",
    "colab_type": "text"
   },
   "source": [
    "<a href=\"https://colab.research.google.com/github/Tensor-Reloaded/Neural-Networks-Template-2025/blob/main/Lab01/Lab01.ipynb\" target=\"_parent\"><img src=\"https://colab.research.google.com/assets/colab-badge.svg\" alt=\"Open In Colab\"/></a>"
   ]
  },
  {
   "cell_type": "markdown",
   "source": [
    "# Python fundamentals"
   ],
   "metadata": {
    "id": "_a3mzLZrN76-"
   }
  },
  {
   "cell_type": "markdown",
   "source": [
    "### Data types"
   ],
   "metadata": {
    "id": "gXqYekvjN76-"
   }
  },
  {
   "cell_type": "code",
   "source": [
    "a = 5\n",
    "print(type(a))"
   ],
   "metadata": {
    "execution": {
     "iopub.status.busy": "2024-10-02T11:44:03.950493Z",
     "iopub.execute_input": "2024-10-02T11:44:03.951372Z",
     "iopub.status.idle": "2024-10-02T11:44:03.983787Z",
     "shell.execute_reply.started": "2024-10-02T11:44:03.951322Z",
     "shell.execute_reply": "2024-10-02T11:44:03.982322Z"
    },
    "trusted": true,
    "id": "3MhBylJEN76_",
    "outputId": "c419c283-d10e-411e-eebe-ba4135a6efaf",
    "colab": {
     "base_uri": "https://localhost:8080/"
    }
   },
   "execution_count": 1,
   "outputs": [
    {
     "output_type": "stream",
     "name": "stdout",
     "text": [
      "<class 'int'>\n"
     ]
    }
   ]
  },
  {
   "cell_type": "code",
   "source": [
    "a = 5.0\n",
    "print(type(a))"
   ],
   "metadata": {
    "execution": {
     "iopub.status.busy": "2024-10-02T11:44:36.109006Z",
     "iopub.execute_input": "2024-10-02T11:44:36.10948Z",
     "iopub.status.idle": "2024-10-02T11:44:36.117591Z",
     "shell.execute_reply.started": "2024-10-02T11:44:36.109437Z",
     "shell.execute_reply": "2024-10-02T11:44:36.116327Z"
    },
    "trusted": true,
    "id": "wodi_gU9N76_",
    "outputId": "126bca12-4c64-43dc-9a25-fbaca73d0f3c",
    "colab": {
     "base_uri": "https://localhost:8080/"
    }
   },
   "execution_count": 2,
   "outputs": [
    {
     "output_type": "stream",
     "name": "stdout",
     "text": [
      "<class 'float'>\n"
     ]
    }
   ]
  },
  {
   "cell_type": "code",
   "source": [
    "a = '5'\n",
    "print(type(a))"
   ],
   "metadata": {
    "execution": {
     "iopub.status.busy": "2024-10-02T11:45:05.270755Z",
     "iopub.execute_input": "2024-10-02T11:45:05.271206Z",
     "iopub.status.idle": "2024-10-02T11:45:05.279648Z",
     "shell.execute_reply.started": "2024-10-02T11:45:05.27116Z",
     "shell.execute_reply": "2024-10-02T11:45:05.278196Z"
    },
    "trusted": true,
    "id": "tHznwFqRN77A",
    "outputId": "0756c44d-d0bb-4633-a763-502f8dba2b56",
    "colab": {
     "base_uri": "https://localhost:8080/"
    }
   },
   "execution_count": 3,
   "outputs": [
    {
     "output_type": "stream",
     "name": "stdout",
     "text": [
      "<class 'str'>\n"
     ]
    }
   ]
  },
  {
   "cell_type": "code",
   "source": [
    "a = True\n",
    "print(type(a))"
   ],
   "metadata": {
    "execution": {
     "iopub.status.busy": "2024-10-02T11:45:06.795423Z",
     "iopub.execute_input": "2024-10-02T11:45:06.796862Z",
     "iopub.status.idle": "2024-10-02T11:45:06.804179Z",
     "shell.execute_reply.started": "2024-10-02T11:45:06.796802Z",
     "shell.execute_reply": "2024-10-02T11:45:06.802988Z"
    },
    "trusted": true,
    "id": "djbJqdr6N77A",
    "outputId": "dbbc12a5-3d3e-43c0-fd1b-8d7d633fcd16",
    "colab": {
     "base_uri": "https://localhost:8080/"
    }
   },
   "execution_count": 4,
   "outputs": [
    {
     "output_type": "stream",
     "name": "stdout",
     "text": [
      "<class 'bool'>\n"
     ]
    }
   ]
  },
  {
   "cell_type": "markdown",
   "source": [
    "## Containers"
   ],
   "metadata": {
    "id": "QGqwl2wbN77A"
   }
  },
  {
   "cell_type": "code",
   "source": [
    "a_list = [1, 2, 2, 3.0, '5']\n",
    "print(a_list)\n",
    "print(type(a_list))"
   ],
   "metadata": {
    "execution": {
     "iopub.status.busy": "2024-10-02T11:49:29.58574Z",
     "iopub.execute_input": "2024-10-02T11:49:29.586322Z",
     "iopub.status.idle": "2024-10-02T11:49:29.594511Z",
     "shell.execute_reply.started": "2024-10-02T11:49:29.586194Z",
     "shell.execute_reply": "2024-10-02T11:49:29.592585Z"
    },
    "trusted": true,
    "id": "lZIuCa6RN77A",
    "outputId": "04899e4e-9d3a-43d7-bcfd-310e094f5043",
    "colab": {
     "base_uri": "https://localhost:8080/"
    }
   },
   "execution_count": 5,
   "outputs": [
    {
     "output_type": "stream",
     "name": "stdout",
     "text": [
      "[1, 2, 2, 3.0, '5']\n",
      "<class 'list'>\n"
     ]
    }
   ]
  },
  {
   "cell_type": "code",
   "source": [
    "a_set = set(a_list)\n",
    "print(a_set)\n",
    "print(type(a_set))\n",
    "a_set = {1, 2, 3, 4}\n",
    "print(a_set)"
   ],
   "metadata": {
    "execution": {
     "iopub.status.busy": "2024-10-02T11:49:31.006854Z",
     "iopub.execute_input": "2024-10-02T11:49:31.00734Z",
     "iopub.status.idle": "2024-10-02T11:49:31.015648Z",
     "shell.execute_reply.started": "2024-10-02T11:49:31.007296Z",
     "shell.execute_reply": "2024-10-02T11:49:31.014282Z"
    },
    "trusted": true,
    "id": "a0KAR2ExN77B",
    "outputId": "e0499764-c938-4094-c78e-5f230bf96fd5",
    "colab": {
     "base_uri": "https://localhost:8080/"
    }
   },
   "execution_count": 6,
   "outputs": [
    {
     "output_type": "stream",
     "name": "stdout",
     "text": [
      "{1, 2, 3.0, '5'}\n",
      "<class 'set'>\n",
      "{1, 2, 3, 4}\n"
     ]
    }
   ]
  },
  {
   "cell_type": "code",
   "source": [
    "a_dict = {\n",
    "    1: 'unu',\n",
    "    'doi': 2,\n",
    "    3.0: a_set\n",
    "}\n",
    "print(\"Keys:\\t\", list(a_dict.keys()))\n",
    "print(\"Values:\\t\", list(a_dict.values()))\n",
    "print(a_dict)\n",
    "print(type(a_dict))"
   ],
   "metadata": {
    "_uuid": "8f2839f25d086af736a60e9eeb907d3b93b6e0e5",
    "_cell_guid": "b1076dfc-b9ad-4769-8c92-a6c4dae69d19",
    "execution": {
     "iopub.status.busy": "2024-10-02T11:50:25.927682Z",
     "iopub.execute_input": "2024-10-02T11:50:25.928643Z",
     "iopub.status.idle": "2024-10-02T11:50:25.936764Z",
     "shell.execute_reply.started": "2024-10-02T11:50:25.928589Z",
     "shell.execute_reply": "2024-10-02T11:50:25.934781Z"
    },
    "trusted": true,
    "id": "Dmtitx5PN77B",
    "outputId": "258ea10d-b517-4a1b-c310-c205e1d2bd49",
    "colab": {
     "base_uri": "https://localhost:8080/"
    }
   },
   "execution_count": 7,
   "outputs": [
    {
     "output_type": "stream",
     "name": "stdout",
     "text": [
      "Keys:\t [1, 'doi', 3.0]\n",
      "Values:\t ['unu', 2, {1, 2, 3, 4}]\n",
      "{1: 'unu', 'doi': 2, 3.0: {1, 2, 3, 4}}\n",
      "<class 'dict'>\n"
     ]
    }
   ]
  },
  {
   "cell_type": "markdown",
   "source": [
    "## Functions"
   ],
   "metadata": {
    "id": "EE6My2IjN77B"
   }
  },
  {
   "cell_type": "code",
   "source": [
    "def add_two_values(a, b):\n",
    "    return a + b\n",
    "\n",
    "add_two_values(5, 6)"
   ],
   "metadata": {
    "execution": {
     "iopub.status.busy": "2024-10-02T11:51:31.893551Z",
     "iopub.execute_input": "2024-10-02T11:51:31.894016Z",
     "iopub.status.idle": "2024-10-02T11:51:31.904305Z",
     "shell.execute_reply.started": "2024-10-02T11:51:31.893971Z",
     "shell.execute_reply": "2024-10-02T11:51:31.902815Z"
    },
    "trusted": true,
    "id": "nX8fadHKN77B",
    "outputId": "056ddaff-0d7b-4032-dd6d-de1da53b3b26",
    "colab": {
     "base_uri": "https://localhost:8080/"
    }
   },
   "execution_count": 8,
   "outputs": [
    {
     "output_type": "execute_result",
     "data": {
      "text/plain": [
       "11"
      ]
     },
     "metadata": {},
     "execution_count": 8
    }
   ]
  },
  {
   "cell_type": "code",
   "source": [
    "def multiply(a: float, b: float) -> float:\n",
    "    return a * b\n",
    "\n",
    "multiply(4.0, 5.0)"
   ],
   "metadata": {
    "execution": {
     "iopub.status.busy": "2024-10-02T11:52:16.544522Z",
     "iopub.execute_input": "2024-10-02T11:52:16.545022Z",
     "iopub.status.idle": "2024-10-02T11:52:16.554614Z",
     "shell.execute_reply.started": "2024-10-02T11:52:16.544976Z",
     "shell.execute_reply": "2024-10-02T11:52:16.553091Z"
    },
    "trusted": true,
    "id": "ZsQjTrEAN77B",
    "outputId": "d6865f62-7636-4878-996a-95305ee81623",
    "colab": {
     "base_uri": "https://localhost:8080/"
    }
   },
   "execution_count": 9,
   "outputs": [
    {
     "output_type": "execute_result",
     "data": {
      "text/plain": [
       "20.0"
      ]
     },
     "metadata": {},
     "execution_count": 9
    }
   ]
  },
  {
   "cell_type": "code",
   "source": [
    "multiply(\"AB\", 2)"
   ],
   "metadata": {
    "execution": {
     "iopub.status.busy": "2024-10-02T11:52:50.763543Z",
     "iopub.execute_input": "2024-10-02T11:52:50.76403Z",
     "iopub.status.idle": "2024-10-02T11:52:50.773893Z",
     "shell.execute_reply.started": "2024-10-02T11:52:50.763985Z",
     "shell.execute_reply": "2024-10-02T11:52:50.772157Z"
    },
    "trusted": true,
    "id": "7Nw6RLGEN77B",
    "outputId": "c3056dc5-d844-447a-e7f3-5bc2bd505b7d",
    "colab": {
     "base_uri": "https://localhost:8080/",
     "height": 35
    }
   },
   "execution_count": 10,
   "outputs": [
    {
     "output_type": "execute_result",
     "data": {
      "text/plain": [
       "'ABAB'"
      ],
      "application/vnd.google.colaboratory.intrinsic+json": {
       "type": "string"
      }
     },
     "metadata": {},
     "execution_count": 10
    }
   ]
  },
  {
   "cell_type": "markdown",
   "source": [
    "# Numpy"
   ],
   "metadata": {
    "id": "0s-6p0HkN77B"
   }
  },
  {
   "cell_type": "markdown",
   "source": [
    "Check: https://numpy.org/doc/stable/user/absolute_beginners.html"
   ],
   "metadata": {
    "id": "CCnrJDOSN77C"
   }
  },
  {
   "cell_type": "markdown",
   "source": [
    "### Installing 3rd party libraries"
   ],
   "metadata": {
    "id": "GFKeqvW9N77C"
   }
  },
  {
   "cell_type": "code",
   "source": [
    "%pip install numpy"
   ],
   "metadata": {
    "execution": {
     "iopub.status.busy": "2024-10-02T12:03:47.809067Z",
     "iopub.execute_input": "2024-10-02T12:03:47.809536Z",
     "iopub.status.idle": "2024-10-02T12:04:02.676853Z",
     "shell.execute_reply.started": "2024-10-02T12:03:47.809488Z",
     "shell.execute_reply": "2024-10-02T12:04:02.675064Z"
    },
    "trusted": true,
    "id": "Do-AheAqN77C",
    "outputId": "8031f61d-3ec7-4d08-b4a8-62e52760ebe5",
    "colab": {
     "base_uri": "https://localhost:8080/"
    }
   },
   "execution_count": 11,
   "outputs": [
    {
     "output_type": "stream",
     "name": "stdout",
     "text": [
      "Requirement already satisfied: numpy in /usr/local/lib/python3.10/dist-packages (1.26.4)\n"
     ]
    }
   ]
  },
  {
   "cell_type": "code",
   "source": [
    "%pip install timed-decorator"
   ],
   "metadata": {
    "execution": {
     "iopub.status.busy": "2024-10-02T12:04:04.698732Z",
     "iopub.execute_input": "2024-10-02T12:04:04.699355Z",
     "iopub.status.idle": "2024-10-02T12:04:19.723462Z",
     "shell.execute_reply.started": "2024-10-02T12:04:04.699297Z",
     "shell.execute_reply": "2024-10-02T12:04:19.721813Z"
    },
    "trusted": true,
    "id": "4p6EbtLjN77C",
    "outputId": "cb194a4d-7254-4ea1-e445-f9ea2936b94c",
    "colab": {
     "base_uri": "https://localhost:8080/"
    }
   },
   "execution_count": 12,
   "outputs": [
    {
     "output_type": "stream",
     "name": "stdout",
     "text": [
      "Collecting timed-decorator\n",
      "  Downloading timed_decorator-1.5.2-py3-none-any.whl.metadata (18 kB)\n",
      "Downloading timed_decorator-1.5.2-py3-none-any.whl (12 kB)\n",
      "Installing collected packages: timed-decorator\n",
      "Successfully installed timed-decorator-1.5.2\n"
     ]
    }
   ]
  },
  {
   "cell_type": "code",
   "source": [
    "import numpy as np\n",
    "from math import sqrt\n",
    "from timed_decorator.simple_timed import timed"
   ],
   "metadata": {
    "execution": {
     "iopub.status.busy": "2024-10-02T12:19:17.823585Z",
     "iopub.execute_input": "2024-10-02T12:19:17.82417Z",
     "iopub.status.idle": "2024-10-02T12:19:17.830611Z",
     "shell.execute_reply.started": "2024-10-02T12:19:17.824114Z",
     "shell.execute_reply": "2024-10-02T12:19:17.829095Z"
    },
    "trusted": true,
    "id": "1fJntYrkN77C"
   },
   "execution_count": 13,
   "outputs": []
  },
  {
   "cell_type": "code",
   "source": [
    "x = np.random.uniform(low=-5.5, high=5.5, size=(50,))\n",
    "x"
   ],
   "metadata": {
    "execution": {
     "iopub.status.busy": "2024-10-02T12:08:13.211484Z",
     "iopub.execute_input": "2024-10-02T12:08:13.212593Z",
     "iopub.status.idle": "2024-10-02T12:08:13.223296Z",
     "shell.execute_reply.started": "2024-10-02T12:08:13.212525Z",
     "shell.execute_reply": "2024-10-02T12:08:13.221925Z"
    },
    "trusted": true,
    "id": "6tJVb2RVN77C",
    "outputId": "e8d76a18-5a5a-4e5b-f870-c3ddf83f8212",
    "colab": {
     "base_uri": "https://localhost:8080/"
    }
   },
   "execution_count": 14,
   "outputs": [
    {
     "output_type": "execute_result",
     "data": {
      "text/plain": [
       "array([-5.10684796,  3.55174233, -1.0879247 ,  0.63476826,  1.32473059,\n",
       "        3.25703386, -2.85759607,  0.56524522, -1.34479975, -1.18308003,\n",
       "       -2.79498795,  4.98782961, -2.52644197, -3.96437629,  2.05677049,\n",
       "        0.07322086, -3.19067818, -2.78072025, -0.40282111, -0.59072882,\n",
       "        4.25927931,  3.96061448,  1.87208983, -0.36896469,  5.1911797 ,\n",
       "       -1.86794248, -2.08074306,  2.74462889, -3.16308914,  1.40324877,\n",
       "       -5.36347821, -5.12131823, -0.67281397,  1.47291849,  4.53722535,\n",
       "       -1.62969957,  0.61056549,  0.49667307,  1.00205239,  0.90775139,\n",
       "       -4.89681083, -0.04053492, -0.12431702, -4.8661491 , -4.63854123,\n",
       "       -1.83418378,  2.1425354 , -4.38189965,  3.00139925,  0.08148065])"
      ]
     },
     "metadata": {},
     "execution_count": 14
    }
   ]
  },
  {
   "cell_type": "code",
   "source": [
    "x > 0"
   ],
   "metadata": {
    "execution": {
     "iopub.status.busy": "2024-10-02T12:08:20.88504Z",
     "iopub.execute_input": "2024-10-02T12:08:20.885553Z",
     "iopub.status.idle": "2024-10-02T12:08:20.895173Z",
     "shell.execute_reply.started": "2024-10-02T12:08:20.885509Z",
     "shell.execute_reply": "2024-10-02T12:08:20.894109Z"
    },
    "trusted": true,
    "id": "A1lC4YMON77C",
    "outputId": "2d6be9f9-02c7-41ce-b85e-bbe2316bd3b9",
    "colab": {
     "base_uri": "https://localhost:8080/"
    }
   },
   "execution_count": 15,
   "outputs": [
    {
     "output_type": "execute_result",
     "data": {
      "text/plain": [
       "array([False,  True, False,  True,  True,  True, False,  True, False,\n",
       "       False, False,  True, False, False,  True,  True, False, False,\n",
       "       False, False,  True,  True,  True, False,  True, False, False,\n",
       "        True, False,  True, False, False, False,  True,  True, False,\n",
       "        True,  True,  True,  True, False, False, False, False, False,\n",
       "       False,  True, False,  True,  True])"
      ]
     },
     "metadata": {},
     "execution_count": 15
    }
   ]
  },
  {
   "cell_type": "code",
   "source": [
    "x[x > 0]"
   ],
   "metadata": {
    "execution": {
     "iopub.status.busy": "2024-10-02T12:08:31.800418Z",
     "iopub.execute_input": "2024-10-02T12:08:31.800889Z",
     "iopub.status.idle": "2024-10-02T12:08:31.81006Z",
     "shell.execute_reply.started": "2024-10-02T12:08:31.800844Z",
     "shell.execute_reply": "2024-10-02T12:08:31.80875Z"
    },
    "trusted": true,
    "id": "cSi7wI_jN77C",
    "outputId": "ef7f51d5-3df0-4f6d-e51f-51cca3c2964e",
    "colab": {
     "base_uri": "https://localhost:8080/"
    }
   },
   "execution_count": 16,
   "outputs": [
    {
     "output_type": "execute_result",
     "data": {
      "text/plain": [
       "array([3.55174233, 0.63476826, 1.32473059, 3.25703386, 0.56524522,\n",
       "       4.98782961, 2.05677049, 0.07322086, 4.25927931, 3.96061448,\n",
       "       1.87208983, 5.1911797 , 2.74462889, 1.40324877, 1.47291849,\n",
       "       4.53722535, 0.61056549, 0.49667307, 1.00205239, 0.90775139,\n",
       "       2.1425354 , 3.00139925, 0.08148065])"
      ]
     },
     "metadata": {},
     "execution_count": 16
    }
   ]
  },
  {
   "cell_type": "code",
   "source": [
    "list(x)"
   ],
   "metadata": {
    "execution": {
     "iopub.status.busy": "2024-10-02T12:08:47.36438Z",
     "iopub.execute_input": "2024-10-02T12:08:47.364834Z",
     "iopub.status.idle": "2024-10-02T12:08:47.374292Z",
     "shell.execute_reply.started": "2024-10-02T12:08:47.364789Z",
     "shell.execute_reply": "2024-10-02T12:08:47.372842Z"
    },
    "trusted": true,
    "id": "9WcCYeb4N77C",
    "outputId": "e7788b5f-f4f7-445c-e343-344331d6bc8c",
    "colab": {
     "base_uri": "https://localhost:8080/"
    }
   },
   "execution_count": 17,
   "outputs": [
    {
     "output_type": "execute_result",
     "data": {
      "text/plain": [
       "[-5.106847962197298,\n",
       " 3.551742327760044,\n",
       " -1.08792469839935,\n",
       " 0.634768264995011,\n",
       " 1.3247305902427025,\n",
       " 3.2570338611885266,\n",
       " -2.8575960749762905,\n",
       " 0.5652452159399672,\n",
       " -1.344799749870452,\n",
       " -1.1830800283398855,\n",
       " -2.79498795182796,\n",
       " 4.987829614683591,\n",
       " -2.5264419743016333,\n",
       " -3.964376290295806,\n",
       " 2.0567704922743806,\n",
       " 0.07322085582956284,\n",
       " -3.190678175041735,\n",
       " -2.7807202498863095,\n",
       " -0.40282111450546143,\n",
       " -0.5907288200199101,\n",
       " 4.2592793126330175,\n",
       " 3.9606144848080085,\n",
       " 1.8720898257286906,\n",
       " -0.36896468997903487,\n",
       " 5.191179699783955,\n",
       " -1.867942476598663,\n",
       " -2.08074305996114,\n",
       " 2.744628890217495,\n",
       " -3.163089137435404,\n",
       " 1.4032487695967086,\n",
       " -5.363478206316041,\n",
       " -5.121318231290703,\n",
       " -0.6728139659857968,\n",
       " 1.4729184870822731,\n",
       " 4.53722534601793,\n",
       " -1.6296995703833135,\n",
       " 0.6105654872148687,\n",
       " 0.4966730686918286,\n",
       " 1.002052387743654,\n",
       " 0.9077513856669057,\n",
       " -4.8968108326057935,\n",
       " -0.04053492331731068,\n",
       " -0.12431701664315664,\n",
       " -4.86614909782572,\n",
       " -4.638541225091128,\n",
       " -1.8341837849962137,\n",
       " 2.142535403821449,\n",
       " -4.381899654857278,\n",
       " 3.0013992539972794,\n",
       " 0.08148065344581923]"
      ]
     },
     "metadata": {},
     "execution_count": 17
    }
   ]
  },
  {
   "cell_type": "markdown",
   "source": [
    "## Comparing numpy arrays to python lists"
   ],
   "metadata": {
    "id": "rLM-vfVDN77C"
   }
  },
  {
   "cell_type": "code",
   "source": [
    "@timed(show_args=True, use_seconds=True)\n",
    "def normalize_np(x: np.ndarray) -> np.ndarray:\n",
    "    mean = np.mean(x)\n",
    "    std = np.std(x)\n",
    "    return (x - mean) / std\n",
    "\n",
    "@timed(show_args=True, use_seconds=True)\n",
    "def normalize_py(x: list) -> list:\n",
    "    mean = sum(x) / len(x)\n",
    "    var = sum([(i - mean) ** 2 for i in x]) / len(x)\n",
    "    std = sqrt(var)\n",
    "    return [(i - mean) / std for i in x]\n",
    "\n",
    "x = np.random.uniform(low=-5.5, high=5.5, size=(50000,)).astype(np.float64)\n",
    "y = list(x)\n",
    "normalized_x = normalize_np(x)\n",
    "normalized_y = normalize_py(y)\n",
    "assert np.allclose(normalized_x, normalized_y)"
   ],
   "metadata": {
    "execution": {
     "iopub.status.busy": "2024-10-02T12:23:10.974197Z",
     "iopub.execute_input": "2024-10-02T12:23:10.974691Z",
     "iopub.status.idle": "2024-10-02T12:23:11.440227Z",
     "shell.execute_reply.started": "2024-10-02T12:23:10.974645Z",
     "shell.execute_reply": "2024-10-02T12:23:11.43898Z"
    },
    "trusted": true,
    "id": "rQIw6SrzN77C",
    "outputId": "177255e1-765f-4e9b-d7bd-8dde1ad96e7f",
    "colab": {
     "base_uri": "https://localhost:8080/"
    }
   },
   "execution_count": 18,
   "outputs": [
    {
     "output_type": "stream",
     "name": "stdout",
     "text": [
      "normalize_np(ndarray(50000,)) -> total time: 0.002838324s\n",
      "normalize_py(list(float64)[50000]) -> total time: 0.027839752s\n"
     ]
    }
   ]
  },
  {
   "cell_type": "markdown",
   "source": [
    "#### Python is slower than numpy in general"
   ],
   "metadata": {
    "id": "SsAyhEIFN77C"
   }
  },
  {
   "cell_type": "code",
   "source": [
    "%%timeit\n",
    "\n",
    "np.min(x)"
   ],
   "metadata": {
    "execution": {
     "iopub.status.busy": "2024-10-02T12:25:52.182079Z",
     "iopub.execute_input": "2024-10-02T12:25:52.182556Z",
     "iopub.status.idle": "2024-10-02T12:25:53.975332Z",
     "shell.execute_reply.started": "2024-10-02T12:25:52.182507Z",
     "shell.execute_reply": "2024-10-02T12:25:53.974039Z"
    },
    "trusted": true,
    "id": "lnHnoOpIN77C",
    "outputId": "e547c993-2cde-460a-d162-cb3aa0e34c49",
    "colab": {
     "base_uri": "https://localhost:8080/"
    }
   },
   "execution_count": 19,
   "outputs": [
    {
     "output_type": "stream",
     "name": "stdout",
     "text": [
      "32.9 µs ± 2.82 µs per loop (mean ± std. dev. of 7 runs, 10000 loops each)\n"
     ]
    }
   ]
  },
  {
   "cell_type": "code",
   "source": [
    "%%timeit\n",
    "\n",
    "min(y)"
   ],
   "metadata": {
    "execution": {
     "iopub.status.busy": "2024-10-02T12:25:57.127966Z",
     "iopub.execute_input": "2024-10-02T12:25:57.128432Z",
     "iopub.status.idle": "2024-10-02T12:25:59.452513Z",
     "shell.execute_reply.started": "2024-10-02T12:25:57.128388Z",
     "shell.execute_reply": "2024-10-02T12:25:59.451406Z"
    },
    "trusted": true,
    "id": "SX9aZKnFN77C",
    "outputId": "bef37356-5bfe-46f2-f5df-bc1097495b70",
    "colab": {
     "base_uri": "https://localhost:8080/"
    }
   },
   "execution_count": 20,
   "outputs": [
    {
     "output_type": "stream",
     "name": "stdout",
     "text": [
      "2.73 ms ± 416 µs per loop (mean ± std. dev. of 7 runs, 100 loops each)\n"
     ]
    }
   ]
  },
  {
   "cell_type": "code",
   "source": [
    "a = np.random.uniform(low=-5.5, high=5.5, size=(50,)).astype(np.float64)\n",
    "b = list(a)\n"
   ],
   "metadata": {
    "execution": {
     "iopub.status.busy": "2024-10-02T12:26:42.991777Z",
     "iopub.execute_input": "2024-10-02T12:26:42.992272Z",
     "iopub.status.idle": "2024-10-02T12:26:42.998492Z",
     "shell.execute_reply.started": "2024-10-02T12:26:42.992226Z",
     "shell.execute_reply": "2024-10-02T12:26:42.997284Z"
    },
    "trusted": true,
    "id": "ionViVvwN77C"
   },
   "execution_count": 21,
   "outputs": []
  },
  {
   "cell_type": "code",
   "source": [
    "%%timeit\n",
    "\n",
    "np.min(a)"
   ],
   "metadata": {
    "execution": {
     "iopub.status.busy": "2024-10-02T12:26:43.456859Z",
     "iopub.execute_input": "2024-10-02T12:26:43.457362Z",
     "iopub.status.idle": "2024-10-02T12:26:48.16646Z",
     "shell.execute_reply.started": "2024-10-02T12:26:43.457317Z",
     "shell.execute_reply": "2024-10-02T12:26:48.165185Z"
    },
    "trusted": true,
    "id": "d0-CmmEnN77C",
    "outputId": "f2317137-6a65-4627-b837-b47c5256fcdd",
    "colab": {
     "base_uri": "https://localhost:8080/"
    }
   },
   "execution_count": 22,
   "outputs": [
    {
     "output_type": "stream",
     "name": "stdout",
     "text": [
      "5.44 µs ± 1.64 µs per loop (mean ± std. dev. of 7 runs, 100000 loops each)\n"
     ]
    }
   ]
  },
  {
   "cell_type": "code",
   "source": [
    "%%timeit\n",
    "\n",
    "min(b)"
   ],
   "metadata": {
    "execution": {
     "iopub.status.busy": "2024-10-02T12:26:48.168224Z",
     "iopub.execute_input": "2024-10-02T12:26:48.168601Z",
     "iopub.status.idle": "2024-10-02T12:26:50.625046Z",
     "shell.execute_reply.started": "2024-10-02T12:26:48.168545Z",
     "shell.execute_reply": "2024-10-02T12:26:50.62365Z"
    },
    "trusted": true,
    "id": "qwAy0mmKN77C",
    "outputId": "2ea05bbc-c747-45a8-d779-554abed80f66",
    "colab": {
     "base_uri": "https://localhost:8080/"
    }
   },
   "execution_count": 23,
   "outputs": [
    {
     "output_type": "stream",
     "name": "stdout",
     "text": [
      "1.66 µs ± 470 ns per loop (mean ± std. dev. of 7 runs, 1000000 loops each)\n"
     ]
    }
   ]
  },
  {
   "cell_type": "markdown",
   "source": [
    "## Inplace operations\n",
    "Use them when you can safely modify the input"
   ],
   "metadata": {
    "id": "blcMfOKaN77D"
   }
  },
  {
   "cell_type": "code",
   "source": [
    "@timed(show_args=True, use_seconds=True)\n",
    "def normalize_np_(x: np.ndarray) -> np.ndarray:\n",
    "    mean = np.mean(x)\n",
    "    std = np.std(x)\n",
    "    x -= mean\n",
    "    x /= std\n",
    "    return x"
   ],
   "metadata": {
    "execution": {
     "iopub.status.busy": "2024-10-02T12:31:42.025848Z",
     "iopub.execute_input": "2024-10-02T12:31:42.026297Z",
     "iopub.status.idle": "2024-10-02T12:31:42.032887Z",
     "shell.execute_reply.started": "2024-10-02T12:31:42.026254Z",
     "shell.execute_reply": "2024-10-02T12:31:42.031665Z"
    },
    "trusted": true,
    "id": "_HxkpvD7N77D"
   },
   "execution_count": 24,
   "outputs": []
  },
  {
   "cell_type": "code",
   "source": [
    "x = np.random.rand(1000, 20000)\n",
    "\n",
    "# This creates a copy\n",
    "y = normalize_np(x)\n",
    "assert not np.allclose(x, y)\n",
    "\n",
    "# Inplace operations modify the original array! But they are faster and use less memory.\n",
    "z = normalize_np_(x)\n",
    "assert np.array_equal(x, z)"
   ],
   "metadata": {
    "execution": {
     "iopub.status.busy": "2024-10-02T12:31:42.183658Z",
     "iopub.execute_input": "2024-10-02T12:31:42.184088Z",
     "iopub.status.idle": "2024-10-02T12:31:42.643647Z",
     "shell.execute_reply.started": "2024-10-02T12:31:42.184046Z",
     "shell.execute_reply": "2024-10-02T12:31:42.642302Z"
    },
    "trusted": true,
    "id": "fmN8W0qGN77D",
    "outputId": "fad7ea35-d4bb-4f1f-86a7-0bd95adcd1dc",
    "colab": {
     "base_uri": "https://localhost:8080/"
    }
   },
   "execution_count": 28,
   "outputs": [
    {
     "output_type": "stream",
     "name": "stdout",
     "text": [
      "normalize_np(ndarray(1000, 20000)) -> total time: 0.189661978s\n",
      "normalize_np_(ndarray(1000, 20000)) -> total time: 0.139641280s\n"
     ]
    }
   ]
  }
 ]
}
